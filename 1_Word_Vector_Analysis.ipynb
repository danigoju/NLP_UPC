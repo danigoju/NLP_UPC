{
 "cells": [
  {
   "cell_type": "code",
   "execution_count": 1,
   "id": "25a5b500",
   "metadata": {
    "execution": {
     "iopub.execute_input": "2022-02-27T12:31:25.277160Z",
     "iopub.status.busy": "2022-02-27T12:31:25.276213Z",
     "iopub.status.idle": "2022-02-27T12:31:26.686981Z",
     "shell.execute_reply": "2022-02-27T12:31:26.687488Z",
     "shell.execute_reply.started": "2022-02-27T11:59:01.861912Z"
    },
    "papermill": {
     "duration": 1.456514,
     "end_time": "2022-02-27T12:31:26.687850",
     "exception": false,
     "start_time": "2022-02-27T12:31:25.231336",
     "status": "completed"
    },
    "tags": []
   },
   "outputs": [],
   "source": [
    "import numpy as np\n",
    "import pickle\n",
    "import torch\n",
    "\n",
    "# Get the interactive Tools for Matplotlib\n",
    "%matplotlib inline\n",
    "import matplotlib.pyplot as plt\n",
    "plt.rcParams['figure.figsize'] = [9.5, 6]"
   ]
  },
  {
   "cell_type": "code",
   "execution_count": 2,
   "id": "adcec957",
   "metadata": {
    "_kg_hide-input": true,
    "execution": {
     "iopub.execute_input": "2022-02-27T12:31:26.749252Z",
     "iopub.status.busy": "2022-02-27T12:31:26.748589Z",
     "iopub.status.idle": "2022-02-27T12:31:26.760822Z",
     "shell.execute_reply": "2022-02-27T12:31:26.761347Z",
     "shell.execute_reply.started": "2022-02-27T11:59:03.176152Z"
    },
    "papermill": {
     "duration": 0.044179,
     "end_time": "2022-02-27T12:31:26.761526",
     "exception": false,
     "start_time": "2022-02-27T12:31:26.717347",
     "status": "completed"
    },
    "tags": []
   },
   "outputs": [],
   "source": [
    "class Vocabulary(object):\n",
    "    def __init__(self, pad_token='<pad>', unk_token='<unk>', eos_token='<eos>'):\n",
    "        self.token2idx = {}\n",
    "        self.idx2token = []\n",
    "        self.pad_token = pad_token\n",
    "        self.unk_token = unk_token\n",
    "        self.eos_token = eos_token\n",
    "        if pad_token is not None:\n",
    "            self.pad_index = self.add_token(pad_token)\n",
    "        if unk_token is not None:\n",
    "            self.unk_index = self.add_token(unk_token)\n",
    "        if eos_token is not None:\n",
    "            self.eos_index = self.add_token(eos_token)\n",
    "\n",
    "    def add_token(self, token):\n",
    "        if token not in self.token2idx:\n",
    "            self.idx2token.append(token)\n",
    "            self.token2idx[token] = len(self.idx2token) - 1\n",
    "        return self.token2idx[token]\n",
    "\n",
    "    def get_index(self, token):\n",
    "        if isinstance(token, str):\n",
    "            return self.token2idx.get(token, self.unk_index)\n",
    "        else:\n",
    "            return [self.token2idx.get(t, self.unk_index) for t in token]\n",
    "\n",
    "    def __len__(self):\n",
    "        return len(self.idx2token)\n",
    "\n",
    "    def save(self, filename):\n",
    "        with open(filename, 'wb') as f:\n",
    "            pickle.dump(self.__dict__, f)\n",
    "\n",
    "    def load(self, filename):\n",
    "        with open(filename, 'rb') as f:\n",
    "            self.__dict__.update(pickle.load(f))"
   ]
  },
  {
   "cell_type": "markdown",
   "id": "c6ac39e4",
   "metadata": {
    "papermill": {
     "duration": 0.028712,
     "end_time": "2022-02-27T12:31:26.819140",
     "exception": false,
     "start_time": "2022-02-27T12:31:26.790428",
     "status": "completed"
    },
    "tags": []
   },
   "source": [
    "We will use the vocabulary computed by the Text Preprocessing notebook (text-preprocessing), and the word vectors computed by the CBOW Training notebook (cbow-vectors)"
   ]
  },
  {
   "cell_type": "code",
   "execution_count": 3,
   "id": "3d604232",
   "metadata": {
    "execution": {
     "iopub.execute_input": "2022-02-27T12:31:26.881122Z",
     "iopub.status.busy": "2022-02-27T12:31:26.878955Z",
     "iopub.status.idle": "2022-02-27T12:31:26.882836Z",
     "shell.execute_reply": "2022-02-27T12:31:26.883339Z",
     "shell.execute_reply.started": "2022-02-27T11:59:03.188830Z"
    },
    "papermill": {
     "duration": 0.035951,
     "end_time": "2022-02-27T12:31:26.883518",
     "exception": false,
     "start_time": "2022-02-27T12:31:26.847567",
     "status": "completed"
    },
    "tags": []
   },
   "outputs": [],
   "source": [
    "DATASET_VERSION = 'ca-100'\n",
    "CBOW_VOCABULARY_ROOT = f'../input/text-preprocessing/data/{DATASET_VERSION}'\n",
    "CBOW_VECTORS_ROOT = f'../input/cbow-training/data/{DATASET_VERSION}'"
   ]
  },
  {
   "cell_type": "code",
   "execution_count": 4,
   "id": "4ba15c6a",
   "metadata": {
    "execution": {
     "iopub.execute_input": "2022-02-27T12:31:26.946730Z",
     "iopub.status.busy": "2022-02-27T12:31:26.943990Z",
     "iopub.status.idle": "2022-02-27T12:31:28.205674Z",
     "shell.execute_reply": "2022-02-27T12:31:28.206234Z",
     "shell.execute_reply.started": "2022-02-27T11:59:03.202233Z"
    },
    "papermill": {
     "duration": 1.294416,
     "end_time": "2022-02-27T12:31:28.206456",
     "exception": false,
     "start_time": "2022-02-27T12:31:26.912040",
     "status": "completed"
    },
    "tags": []
   },
   "outputs": [
    {
     "name": "stdout",
     "output_type": "stream",
     "text": [
      "Most frequent Catalan words\n",
      "('de', 'la', 'i', 'a', 'el', 'd', 'l', 'que', 'en', 'va')\n",
      "(5029788, 2771563, 2495802, 2130330, 1704858, 1362665, 1322822, 1293716, 1266356, 1191615)\n"
     ]
    }
   ],
   "source": [
    "dict = f'{CBOW_VOCABULARY_ROOT}/ca.wiki.train.tokens.nopunct.dic'\n",
    "counter = pickle.load(open(dict, 'rb'))\n",
    "words, values = zip(*counter.most_common(5000))\n",
    "print('Most frequent Catalan words')\n",
    "print(words[:10])\n",
    "print(values[:10])"
   ]
  },
  {
   "cell_type": "code",
   "execution_count": 5,
   "id": "8cf9fb0e",
   "metadata": {
    "execution": {
     "iopub.execute_input": "2022-02-27T12:31:28.274115Z",
     "iopub.status.busy": "2022-02-27T12:31:28.272115Z",
     "iopub.status.idle": "2022-02-27T12:31:29.101228Z",
     "shell.execute_reply": "2022-02-27T12:31:29.100494Z",
     "shell.execute_reply.started": "2022-02-27T11:59:04.543181Z"
    },
    "papermill": {
     "duration": 0.86289,
     "end_time": "2022-02-27T12:31:29.101407",
     "exception": false,
     "start_time": "2022-02-27T12:31:28.238517",
     "status": "completed"
    },
    "tags": []
   },
   "outputs": [
    {
     "name": "stdout",
     "output_type": "stream",
     "text": [
      "Word entropy:  6.22, Perplexity:   505\n",
      "Probability of the most frequent word: 0.076\n"
     ]
    }
   ],
   "source": [
    "from scipy.stats import entropy\n",
    "h = entropy(values)\n",
    "print(f'Word entropy: {h:5.2f}, Perplexity: {np.exp(h):5.0f}')\n",
    "print(f'Probability of the most frequent word: {values[0]/sum(values):2.3f}')"
   ]
  },
  {
   "cell_type": "markdown",
   "id": "7cd106c9",
   "metadata": {
    "papermill": {
     "duration": 0.03028,
     "end_time": "2022-02-27T12:31:29.161691",
     "exception": false,
     "start_time": "2022-02-27T12:31:29.131411",
     "status": "completed"
    },
    "tags": []
   },
   "source": [
    "**Zipf's law of words**. Zipf's law was originally formulated in terms of quantitative linguistics, stating that given some corpus of natural language utterances, the frequency of any word is inversely proportional to its rank in the frequency table."
   ]
  },
  {
   "cell_type": "code",
   "execution_count": 6,
   "id": "f0b66902",
   "metadata": {
    "execution": {
     "iopub.execute_input": "2022-02-27T12:31:29.234241Z",
     "iopub.status.busy": "2022-02-27T12:31:29.233340Z",
     "iopub.status.idle": "2022-02-27T12:31:29.463680Z",
     "shell.execute_reply": "2022-02-27T12:31:29.464219Z",
     "shell.execute_reply.started": "2022-02-27T11:59:05.376099Z"
    },
    "papermill": {
     "duration": 0.272965,
     "end_time": "2022-02-27T12:31:29.464434",
     "exception": false,
     "start_time": "2022-02-27T12:31:29.191469",
     "status": "completed"
    },
    "tags": []
   },
   "outputs": [
    {
     "data": {
      "image/png": "[encoded data removed]",
      "text/plain": [
       "<Figure size 684x432 with 1 Axes>"
      ]
     },
     "metadata": {
      "needs_background": "light"
     },
     "output_type": "display_data"
    }
   ],
   "source": [
    "_ = plt.plot(values[:50], 'g', 2*values[0]/np.arange(2,52), 'r')"
   ]
  },
  {
   "cell_type": "code",
   "execution_count": 7,
   "id": "7494059c",
   "metadata": {
    "execution": {
     "iopub.execute_input": "2022-02-27T12:31:29.532253Z",
     "iopub.status.busy": "2022-02-27T12:31:29.531514Z",
     "iopub.status.idle": "2022-02-27T12:31:30.635843Z",
     "shell.execute_reply": "2022-02-27T12:31:30.635214Z",
     "shell.execute_reply.started": "2022-02-27T11:59:05.617229Z"
    },
    "papermill": {
     "duration": 1.138033,
     "end_time": "2022-02-27T12:31:30.636036",
     "exception": false,
     "start_time": "2022-02-27T12:31:29.498003",
     "status": "completed"
    },
    "tags": []
   },
   "outputs": [
    {
     "data": {
      "image/png": "[encoded data removed]",
      "text/plain": [
       "<Figure size 684x432 with 1 Axes>"
      ]
     },
     "metadata": {
      "needs_background": "light"
     },
     "output_type": "display_data"
    }
   ],
   "source": [
    "_ = plt.loglog(values)\n",
    "plt.show()"
   ]
  },
  {
   "cell_type": "markdown",
   "id": "f21679c5",
   "metadata": {
    "papermill": {
     "duration": 0.030956,
     "end_time": "2022-02-27T12:31:30.698333",
     "exception": false,
     "start_time": "2022-02-27T12:31:30.667377",
     "status": "completed"
    },
    "tags": []
   },
   "source": [
    "**Benford's law**, also called the Newcomb–Benford law, the law of anomalous numbers, or the first-digit law, is an observation about the frequency distribution of leading digits in many real-life sets of numerical data."
   ]
  },
  {
   "cell_type": "code",
   "execution_count": 8,
   "id": "d6664d1e",
   "metadata": {
    "execution": {
     "iopub.execute_input": "2022-02-27T12:31:30.764450Z",
     "iopub.status.busy": "2022-02-27T12:31:30.763787Z",
     "iopub.status.idle": "2022-02-27T12:31:31.164656Z",
     "shell.execute_reply": "2022-02-27T12:31:31.163989Z",
     "shell.execute_reply.started": "2022-02-27T11:59:06.521853Z"
    },
    "papermill": {
     "duration": 0.435324,
     "end_time": "2022-02-27T12:31:31.164813",
     "exception": false,
     "start_time": "2022-02-27T12:31:30.729489",
     "status": "completed"
    },
    "tags": []
   },
   "outputs": [
    {
     "name": "stdout",
     "output_type": "stream",
     "text": [
      "Counter({1: 1705, 2: 1332, 3: 673, 4: 450, 5: 283, 6: 192, 7: 157, 8: 126, 9: 82})\n"
     ]
    },
    {
     "data": {
      "image/png": "[encoded data removed]",
      "text/plain": [
       "<Figure size 684x432 with 1 Axes>"
      ]
     },
     "metadata": {
      "needs_background": "light"
     },
     "output_type": "display_data"
    }
   ],
   "source": [
    "from collections import Counter\n",
    "benford = Counter(int(str(item[1])[0]) for item in counter.most_common(5000))\n",
    "print(benford)\n",
    "percentage = np.array(list(benford.values()), dtype=float)\n",
    "percentage /= percentage.sum()\n",
    "_ = plt.bar(list(benford.keys()), percentage*100)"
   ]
  },
  {
   "cell_type": "code",
   "execution_count": 9,
   "id": "342f94eb",
   "metadata": {
    "execution": {
     "iopub.execute_input": "2022-02-27T12:31:31.236026Z",
     "iopub.status.busy": "2022-02-27T12:31:31.235364Z",
     "iopub.status.idle": "2022-02-27T12:31:32.963868Z",
     "shell.execute_reply": "2022-02-27T12:31:32.963124Z",
     "shell.execute_reply.started": "2022-02-27T11:59:06.853470Z"
    },
    "papermill": {
     "duration": 1.767093,
     "end_time": "2022-02-27T12:31:32.964062",
     "exception": false,
     "start_time": "2022-02-27T12:31:31.196969",
     "status": "completed"
    },
    "tags": []
   },
   "outputs": [],
   "source": [
    "modelname = f'{CBOW_VECTORS_ROOT}/{DATASET_VERSION}.pt'\n",
    "#modelname = f'{CBOW_VECTORS_ROOT}/{DATASET_VERSION}learntVectors.pt'\n",
    "state_dict = torch.load(modelname, map_location=torch.device('cpu'))"
   ]
  },
  {
   "cell_type": "code",
   "execution_count": 10,
   "id": "62153be3",
   "metadata": {
    "execution": {
     "iopub.execute_input": "2022-02-27T12:31:33.035459Z",
     "iopub.status.busy": "2022-02-27T12:31:33.034484Z",
     "iopub.status.idle": "2022-02-27T12:31:33.040411Z",
     "shell.execute_reply": "2022-02-27T12:31:33.041016Z",
     "shell.execute_reply.started": "2022-02-27T11:59:09.406577Z"
    },
    "papermill": {
     "duration": 0.043335,
     "end_time": "2022-02-27T12:31:33.041183",
     "exception": false,
     "start_time": "2022-02-27T12:31:32.997848",
     "status": "completed"
    },
    "tags": []
   },
   "outputs": [
    {
     "data": {
      "text/plain": [
       "odict_keys(['emb.weight', 'lin.weight'])"
      ]
     },
     "execution_count": 10,
     "metadata": {},
     "output_type": "execute_result"
    }
   ],
   "source": [
    "state_dict.keys()"
   ]
  },
  {
   "cell_type": "code",
   "execution_count": 11,
   "id": "ce11a5e2",
   "metadata": {
    "execution": {
     "iopub.execute_input": "2022-02-27T12:31:33.113521Z",
     "iopub.status.busy": "2022-02-27T12:31:33.112537Z",
     "iopub.status.idle": "2022-02-27T12:31:33.117533Z",
     "shell.execute_reply": "2022-02-27T12:31:33.117026Z",
     "shell.execute_reply.started": "2022-02-27T11:59:09.416121Z"
    },
    "papermill": {
     "duration": 0.04352,
     "end_time": "2022-02-27T12:31:33.117679",
     "exception": false,
     "start_time": "2022-02-27T12:31:33.074159",
     "status": "completed"
    },
    "tags": []
   },
   "outputs": [],
   "source": [
    "input_word_vectors = state_dict['emb.weight'].numpy()\n",
    "output_word_vectors = state_dict['lin.weight'].numpy()"
   ]
  },
  {
   "cell_type": "code",
   "execution_count": 12,
   "id": "10a30594",
   "metadata": {
    "execution": {
     "iopub.execute_input": "2022-02-27T12:31:33.186501Z",
     "iopub.status.busy": "2022-02-27T12:31:33.185571Z",
     "iopub.status.idle": "2022-02-27T12:31:33.288229Z",
     "shell.execute_reply": "2022-02-27T12:31:33.287548Z",
     "shell.execute_reply.started": "2022-02-27T11:59:09.431990Z"
    },
    "papermill": {
     "duration": 0.138227,
     "end_time": "2022-02-27T12:31:33.288383",
     "exception": false,
     "start_time": "2022-02-27T12:31:33.150156",
     "status": "completed"
    },
    "tags": []
   },
   "outputs": [],
   "source": [
    "token_vocab = Vocabulary()\n",
    "token_vocab.load(f'{CBOW_VOCABULARY_ROOT}/ca.wiki.vocab')"
   ]
  },
  {
   "cell_type": "code",
   "execution_count": 13,
   "id": "4d868eaa",
   "metadata": {
    "_kg_hide-input": false,
    "execution": {
     "iopub.execute_input": "2022-02-27T12:31:33.362606Z",
     "iopub.status.busy": "2022-02-27T12:31:33.361893Z",
     "iopub.status.idle": "2022-02-27T12:31:33.371256Z",
     "shell.execute_reply": "2022-02-27T12:31:33.371815Z",
     "shell.execute_reply.started": "2022-02-27T11:59:09.579565Z"
    },
    "papermill": {
     "duration": 0.050908,
     "end_time": "2022-02-27T12:31:33.372003",
     "exception": false,
     "start_time": "2022-02-27T12:31:33.321095",
     "status": "completed"
    },
    "tags": []
   },
   "outputs": [],
   "source": [
    "class WordVectors:\n",
    "    def __init__(self, vectors, vocabulary):\n",
    "        # TODO\n",
    "        self.vocabulary = vocabulary\n",
    "        self.vectors = vectors\n",
    "    \n",
    "    \n",
    "    def sim(self, x, y):\n",
    "        '''Returns cosine similarity between two lists x and y'''\n",
    "        #x_norm = np.sqrt(np.dot(x,x))\n",
    "        x_norm = np.linalg.norm(x)\n",
    "        #y_norm = np.sqrt(np.dot(y,y))\n",
    "        y_norm = np.linalg.norm(y)\n",
    "        if x_norm == 0 or y_norm == 0:\n",
    "            return 0\n",
    "        else: return np.dot(x,y)/(x_norm*y_norm)\n",
    "    \n",
    "    def most_similar(self, word, topn=10):\n",
    "        ''' Return the topn words with the highest similarity to input word'''\n",
    "        wordvec = self.vectors[self.vocabulary.get_index(word)]\n",
    "        # Obtain the similarity with each word in the vocabulary\n",
    "        similarities = [(name, self.sim(vec,wordvec)) for (name,vec) in zip(self.vocabulary.idx2token,self.vectors)]\n",
    "        # Return the topn words with the highest similarity\n",
    "        return sorted(similarities,key = lambda x: -x[1])[1:topn+1]\n",
    "\n",
    "    def analogy(self, x1, x2, y1, topn=5, keep_all=False):\n",
    "        # If keep_all if False we remove the input words (x1, x2, y1) from the returned closed words\n",
    "        # Get the word vectors for each word\n",
    "        vecx1 = self.vectors[self.vocabulary.get_index(x1)]\n",
    "        vecx2 = self.vectors[self.vocabulary.get_index(x2)]\n",
    "        vecy1 = self.vectors[self.vocabulary.get_index(y1)]\n",
    "        vecy2 = vecx2 - vecx1 + vecy1 # Compute the \"analogy point\"\n",
    "        # Get the most similar words from the \"analogy point\"\n",
    "        if keep_all:\n",
    "            similarities = [(name, self.sim(vec,vecy2)) for (name,vec) in zip(self.vocabulary.idx2token,self.vectors)]\n",
    "        else:\n",
    "            similarities = [(name, self.sim(vec,vecy2)) for (name,vec) in zip(self.vocabulary.idx2token,self.vectors) if name not in [x1,x2,y1]]\n",
    "        return sorted(similarities,key = lambda x: -x[1])[:topn]"
   ]
  },
  {
   "cell_type": "code",
   "execution_count": 14,
   "id": "7951cd45",
   "metadata": {
    "execution": {
     "iopub.execute_input": "2022-02-27T12:31:33.442739Z",
     "iopub.status.busy": "2022-02-27T12:31:33.441632Z",
     "iopub.status.idle": "2022-02-27T12:31:33.446231Z",
     "shell.execute_reply": "2022-02-27T12:31:33.446851Z",
     "shell.execute_reply.started": "2022-02-27T11:59:09.598154Z"
    },
    "papermill": {
     "duration": 0.041857,
     "end_time": "2022-02-27T12:31:33.447049",
     "exception": false,
     "start_time": "2022-02-27T12:31:33.405192",
     "status": "completed"
    },
    "tags": []
   },
   "outputs": [],
   "source": [
    "model1 = WordVectors(input_word_vectors, token_vocab)\n",
    "model2 = WordVectors(output_word_vectors, token_vocab)"
   ]
  },
  {
   "cell_type": "code",
   "execution_count": 15,
   "id": "e6b17fcb",
   "metadata": {
    "execution": {
     "iopub.execute_input": "2022-02-27T12:31:33.515373Z",
     "iopub.status.busy": "2022-02-27T12:31:33.514447Z",
     "iopub.status.idle": "2022-02-27T12:31:36.161987Z",
     "shell.execute_reply": "2022-02-27T12:31:36.162494Z",
     "shell.execute_reply.started": "2022-02-27T11:59:09.617096Z"
    },
    "papermill": {
     "duration": 2.683233,
     "end_time": "2022-02-27T12:31:36.162698",
     "exception": false,
     "start_time": "2022-02-27T12:31:33.479465",
     "status": "completed"
    },
    "tags": []
   },
   "outputs": [
    {
     "data": {
      "text/plain": [
       "[('valencià', 0.8694966),\n",
       " ('basc', 0.78099537),\n",
       " ('mallorquí', 0.7442114),\n",
       " ('gallec', 0.7043113),\n",
       " ('andalús', 0.67710865),\n",
       " ('espanyol', 0.64338785),\n",
       " ('neerlandès', 0.62412465),\n",
       " ('aragonès', 0.5999063),\n",
       " ('txec', 0.5868822),\n",
       " ('xilè', 0.583892)]"
      ]
     },
     "execution_count": 15,
     "metadata": {},
     "output_type": "execute_result"
    }
   ],
   "source": [
    "model1.most_similar('català')"
   ]
  },
  {
   "cell_type": "code",
   "execution_count": 16,
   "id": "1af62c5e",
   "metadata": {
    "execution": {
     "iopub.execute_input": "2022-02-27T12:31:36.233878Z",
     "iopub.status.busy": "2022-02-27T12:31:36.232791Z",
     "iopub.status.idle": "2022-02-27T12:31:38.899433Z",
     "shell.execute_reply": "2022-02-27T12:31:38.898822Z",
     "shell.execute_reply.started": "2022-02-27T11:59:11.374781Z"
    },
    "papermill": {
     "duration": 2.703947,
     "end_time": "2022-02-27T12:31:38.899605",
     "exception": false,
     "start_time": "2022-02-27T12:31:36.195658",
     "status": "completed"
    },
    "tags": []
   },
   "outputs": [
    {
     "data": {
      "text/plain": [
       "[('rus', 0.9535034),\n",
       " ('polonès', 0.95270663),\n",
       " ('portuguès', 0.94084746),\n",
       " ('turc', 0.93754303),\n",
       " ('italià', 0.9371083)]"
      ]
     },
     "execution_count": 16,
     "metadata": {},
     "output_type": "execute_result"
    }
   ],
   "source": [
    "model2.analogy('França', 'francès', 'Polònia')"
   ]
  },
  {
   "cell_type": "markdown",
   "id": "0eb39123",
   "metadata": {
    "papermill": {
     "duration": 0.03357,
     "end_time": "2022-02-27T12:31:38.966957",
     "exception": false,
     "start_time": "2022-02-27T12:31:38.933387",
     "status": "completed"
    },
    "tags": []
   },
   "source": [
    "### First we do a generic evaluation\n",
    "\n",
    "Good examples:"
   ]
  },
  {
   "cell_type": "code",
   "execution_count": 17,
   "id": "5571254c",
   "metadata": {
    "execution": {
     "iopub.execute_input": "2022-02-27T12:31:39.040084Z",
     "iopub.status.busy": "2022-02-27T12:31:39.039022Z",
     "iopub.status.idle": "2022-02-27T12:31:41.653095Z",
     "shell.execute_reply": "2022-02-27T12:31:41.652384Z",
     "shell.execute_reply.started": "2022-02-27T11:59:13.017819Z"
    },
    "papermill": {
     "duration": 2.652387,
     "end_time": "2022-02-27T12:31:41.653270",
     "exception": false,
     "start_time": "2022-02-27T12:31:39.000883",
     "status": "completed"
    },
    "tags": []
   },
   "outputs": [
    {
     "data": {
      "text/plain": [
       "[('3', 0.9136957),\n",
       " ('4', 0.90190166),\n",
       " ('6', 0.89479685),\n",
       " ('5', 0.88276887),\n",
       " ('7', 0.88276505)]"
      ]
     },
     "execution_count": 17,
     "metadata": {},
     "output_type": "execute_result"
    }
   ],
   "source": [
    "model2.analogy('0', '1', '2')"
   ]
  },
  {
   "cell_type": "code",
   "execution_count": 18,
   "id": "e8ca0b58",
   "metadata": {
    "execution": {
     "iopub.execute_input": "2022-02-27T12:31:41.728112Z",
     "iopub.status.busy": "2022-02-27T12:31:41.727373Z",
     "iopub.status.idle": "2022-02-27T12:31:44.332416Z",
     "shell.execute_reply": "2022-02-27T12:31:44.331823Z",
     "shell.execute_reply.started": "2022-02-27T11:59:14.679263Z"
    },
    "papermill": {
     "duration": 2.645473,
     "end_time": "2022-02-27T12:31:44.332582",
     "exception": false,
     "start_time": "2022-02-27T12:31:41.687109",
     "status": "completed"
    },
    "tags": []
   },
   "outputs": [
    {
     "data": {
      "text/plain": [
       "[('monarca', 0.83487535),\n",
       " ('príncep', 0.72772914),\n",
       " ('regne', 0.7110699),\n",
       " ('Rei', 0.7052473),\n",
       " ('sultà', 0.685487),\n",
       " ('cabdill', 0.6854348),\n",
       " ('tsar', 0.67964375),\n",
       " ('califa', 0.66172945),\n",
       " ('pretendent', 0.6485082),\n",
       " ('faraó', 0.6410272)]"
      ]
     },
     "execution_count": 18,
     "metadata": {},
     "output_type": "execute_result"
    }
   ],
   "source": [
    "model1.most_similar('rei')"
   ]
  },
  {
   "cell_type": "code",
   "execution_count": 19,
   "id": "0f3d14fc",
   "metadata": {
    "execution": {
     "iopub.execute_input": "2022-02-27T12:31:44.404584Z",
     "iopub.status.busy": "2022-02-27T12:31:44.403896Z",
     "iopub.status.idle": "2022-02-27T12:31:47.076035Z",
     "shell.execute_reply": "2022-02-27T12:31:47.076592Z",
     "shell.execute_reply.started": "2022-02-27T11:59:16.314544Z"
    },
    "papermill": {
     "duration": 2.71032,
     "end_time": "2022-02-27T12:31:47.076773",
     "exception": false,
     "start_time": "2022-02-27T12:31:44.366453",
     "status": "completed"
    },
    "tags": []
   },
   "outputs": [
    {
     "data": {
      "text/plain": [
       "[('princesa', 0.9594974),\n",
       " ('senyora', 0.94720423),\n",
       " ('comtessa', 0.93902147),\n",
       " ('promesa', 0.9367481),\n",
       " ('Verge', 0.93619454)]"
      ]
     },
     "execution_count": 19,
     "metadata": {},
     "output_type": "execute_result"
    }
   ],
   "source": [
    "model2.analogy('rei', 'reina', 'príncep')"
   ]
  },
  {
   "cell_type": "code",
   "execution_count": 20,
   "id": "c51c86b6",
   "metadata": {
    "execution": {
     "iopub.execute_input": "2022-02-27T12:31:47.152886Z",
     "iopub.status.busy": "2022-02-27T12:31:47.152234Z",
     "iopub.status.idle": "2022-02-27T12:31:49.768423Z",
     "shell.execute_reply": "2022-02-27T12:31:49.768898Z",
     "shell.execute_reply.started": "2022-02-27T11:59:17.993703Z"
    },
    "papermill": {
     "duration": 2.658545,
     "end_time": "2022-02-27T12:31:49.769095",
     "exception": false,
     "start_time": "2022-02-27T12:31:47.110550",
     "status": "completed"
    },
    "tags": []
   },
   "outputs": [
    {
     "data": {
      "text/plain": [
       "[('extern', 0.941792),\n",
       " ('humit', 0.94044673),\n",
       " ('pesat', 0.9383421),\n",
       " ('perillós', 0.93823665),\n",
       " ('tranquil', 0.9379639)]"
      ]
     },
     "execution_count": 20,
     "metadata": {},
     "output_type": "execute_result"
    }
   ],
   "source": [
    "model2.analogy('gran', 'petit', 'sec')"
   ]
  },
  {
   "cell_type": "code",
   "execution_count": 21,
   "id": "9cb75e00",
   "metadata": {
    "execution": {
     "iopub.execute_input": "2022-02-27T12:31:49.844885Z",
     "iopub.status.busy": "2022-02-27T12:31:49.844231Z",
     "iopub.status.idle": "2022-02-27T12:31:52.460818Z",
     "shell.execute_reply": "2022-02-27T12:31:52.460153Z",
     "shell.execute_reply.started": "2022-02-27T11:59:19.644499Z"
    },
    "papermill": {
     "duration": 2.657542,
     "end_time": "2022-02-27T12:31:52.460986",
     "exception": false,
     "start_time": "2022-02-27T12:31:49.803444",
     "status": "completed"
    },
    "tags": []
   },
   "outputs": [
    {
     "data": {
      "text/plain": [
       "[('caragol', 0.6599287),\n",
       " ('capçal', 0.5760337),\n",
       " ('bedoll', 0.5333225),\n",
       " ('barril', 0.5327309),\n",
       " ('pneumàtic', 0.5246113),\n",
       " ('cistell', 0.5210371),\n",
       " ('falguera', 0.51844853),\n",
       " ('camió', 0.5077303),\n",
       " ('cafeïna', 0.5047261),\n",
       " ('rotor', 0.5041223)]"
      ]
     },
     "execution_count": 21,
     "metadata": {},
     "output_type": "execute_result"
    }
   ],
   "source": [
    "model1.most_similar('cargol')"
   ]
  },
  {
   "cell_type": "code",
   "execution_count": 22,
   "id": "d0419905",
   "metadata": {
    "execution": {
     "iopub.execute_input": "2022-02-27T12:31:52.537759Z",
     "iopub.status.busy": "2022-02-27T12:31:52.537109Z",
     "iopub.status.idle": "2022-02-27T12:31:55.143556Z",
     "shell.execute_reply": "2022-02-27T12:31:55.144093Z",
     "shell.execute_reply.started": "2022-02-27T11:59:21.252363Z"
    },
    "papermill": {
     "duration": 2.647785,
     "end_time": "2022-02-27T12:31:55.144339",
     "exception": false,
     "start_time": "2022-02-27T12:31:52.496554",
     "status": "completed"
    },
    "tags": []
   },
   "outputs": [
    {
     "data": {
      "text/plain": [
       "[('gos', 0.6306089),\n",
       " ('mico', 0.6034023),\n",
       " ('botó', 0.59301186),\n",
       " ('porc', 0.57390374),\n",
       " ('gat', 0.5716926),\n",
       " ('cervell', 0.5687897),\n",
       " ('micròfon', 0.56136334),\n",
       " ('filtre', 0.5606296),\n",
       " ('cuc', 0.5594078),\n",
       " ('pin', 0.5556143)]"
      ]
     },
     "execution_count": 22,
     "metadata": {},
     "output_type": "execute_result"
    }
   ],
   "source": [
    "model1.most_similar('ratolí')"
   ]
  },
  {
   "cell_type": "markdown",
   "id": "98cd1624",
   "metadata": {
    "papermill": {
     "duration": 0.036004,
     "end_time": "2022-02-27T12:31:55.215838",
     "exception": false,
     "start_time": "2022-02-27T12:31:55.179834",
     "status": "completed"
    },
    "tags": []
   },
   "source": [
    "Bad examples:"
   ]
  },
  {
   "cell_type": "code",
   "execution_count": 23,
   "id": "af24a943",
   "metadata": {
    "execution": {
     "iopub.execute_input": "2022-02-27T12:31:55.302021Z",
     "iopub.status.busy": "2022-02-27T12:31:55.301280Z",
     "iopub.status.idle": "2022-02-27T12:31:58.012814Z",
     "shell.execute_reply": "2022-02-27T12:31:58.012078Z",
     "shell.execute_reply.started": "2022-02-27T11:59:22.876688Z"
    },
    "papermill": {
     "duration": 2.760541,
     "end_time": "2022-02-27T12:31:58.013005",
     "exception": false,
     "start_time": "2022-02-27T12:31:55.252464",
     "status": "completed"
    },
    "tags": []
   },
   "outputs": [
    {
     "data": {
      "text/plain": [
       "[('màscara', 0.67350644),\n",
       " ('cinta', 0.6489823),\n",
       " ('pell', 0.6406212),\n",
       " ('safata', 0.61697656),\n",
       " ('planxa', 0.6139086),\n",
       " ('cistella', 0.6125013),\n",
       " ('bossa', 0.6111405),\n",
       " ('carcassa', 0.6092102),\n",
       " ('camisa', 0.592758),\n",
       " ('barra', 0.59126544)]"
      ]
     },
     "execution_count": 23,
     "metadata": {},
     "output_type": "execute_result"
    }
   ],
   "source": [
    "model1.most_similar('sabata')"
   ]
  },
  {
   "cell_type": "code",
   "execution_count": 24,
   "id": "5e70fcb5",
   "metadata": {
    "execution": {
     "iopub.execute_input": "2022-02-27T12:31:58.110755Z",
     "iopub.status.busy": "2022-02-27T12:31:58.106446Z",
     "iopub.status.idle": "2022-02-27T12:32:00.742292Z",
     "shell.execute_reply": "2022-02-27T12:32:00.741648Z",
     "shell.execute_reply.started": "2022-02-27T11:59:24.532890Z"
    },
    "papermill": {
     "duration": 2.692578,
     "end_time": "2022-02-27T12:32:00.742473",
     "exception": false,
     "start_time": "2022-02-27T12:31:58.049895",
     "status": "completed"
    },
    "tags": []
   },
   "outputs": [
    {
     "data": {
      "text/plain": [
       "[('hua', 0.9910463),\n",
       " ('Crockett', 0.99100065),\n",
       " ('Rik', 0.9909363),\n",
       " ('Heilbronn', 0.99090624),\n",
       " ('Rein', 0.9908806)]"
      ]
     },
     "execution_count": 24,
     "metadata": {},
     "output_type": "execute_result"
    }
   ],
   "source": [
    "model2.analogy('juny', 'juliol', 'septembre')"
   ]
  },
  {
   "cell_type": "code",
   "execution_count": 25,
   "id": "9a0cad6d",
   "metadata": {
    "execution": {
     "iopub.execute_input": "2022-02-27T12:32:00.836344Z",
     "iopub.status.busy": "2022-02-27T12:32:00.829389Z",
     "iopub.status.idle": "2022-02-27T12:32:03.431209Z",
     "shell.execute_reply": "2022-02-27T12:32:03.430583Z",
     "shell.execute_reply.started": "2022-02-27T11:59:26.161629Z"
    },
    "papermill": {
     "duration": 2.652412,
     "end_time": "2022-02-27T12:32:03.431401",
     "exception": false,
     "start_time": "2022-02-27T12:32:00.778989",
     "status": "completed"
    },
    "tags": []
   },
   "outputs": [
    {
     "data": {
      "text/plain": [
       "[('25', 0.97883403),\n",
       " ('24', 0.9717788),\n",
       " ('21', 0.9716092),\n",
       " ('16', 0.9699173),\n",
       " ('23', 0.9697214)]"
      ]
     },
     "execution_count": 25,
     "metadata": {},
     "output_type": "execute_result"
    }
   ],
   "source": [
    "model2.analogy('10', '20', '30')"
   ]
  },
  {
   "cell_type": "markdown",
   "id": "46d4ca4a",
   "metadata": {
    "papermill": {
     "duration": 0.037065,
     "end_time": "2022-02-27T12:32:03.505120",
     "exception": false,
     "start_time": "2022-02-27T12:32:03.468055",
     "status": "completed"
    },
    "tags": []
   },
   "source": [
    "Now let's look for biases in the analogies"
   ]
  },
  {
   "cell_type": "code",
   "execution_count": 26,
   "id": "5c13b9b6",
   "metadata": {
    "execution": {
     "iopub.execute_input": "2022-02-27T12:32:03.587292Z",
     "iopub.status.busy": "2022-02-27T12:32:03.586242Z",
     "iopub.status.idle": "2022-02-27T12:32:06.215462Z",
     "shell.execute_reply": "2022-02-27T12:32:06.214762Z",
     "shell.execute_reply.started": "2022-02-27T11:59:27.821148Z"
    },
    "papermill": {
     "duration": 2.672504,
     "end_time": "2022-02-27T12:32:06.215622",
     "exception": false,
     "start_time": "2022-02-27T12:32:03.543118",
     "status": "completed"
    },
    "tags": []
   },
   "outputs": [
    {
     "data": {
      "text/plain": [
       "[('criada', 0.9340185),\n",
       " ('promesa', 0.9318797),\n",
       " ('companya', 0.9318301),\n",
       " ('secretària', 0.9318013),\n",
       " ('infermera', 0.93136454)]"
      ]
     },
     "execution_count": 26,
     "metadata": {},
     "output_type": "execute_result"
    }
   ],
   "source": [
    "model2.analogy('pare', 'treballador', 'mare')"
   ]
  },
  {
   "cell_type": "code",
   "execution_count": 27,
   "id": "e47dd2fb",
   "metadata": {
    "execution": {
     "iopub.execute_input": "2022-02-27T12:32:06.299124Z",
     "iopub.status.busy": "2022-02-27T12:32:06.298119Z",
     "iopub.status.idle": "2022-02-27T12:32:08.954715Z",
     "shell.execute_reply": "2022-02-27T12:32:08.954145Z",
     "shell.execute_reply.started": "2022-02-27T11:59:29.527858Z"
    },
    "papermill": {
     "duration": 2.701975,
     "end_time": "2022-02-27T12:32:08.954888",
     "exception": false,
     "start_time": "2022-02-27T12:32:06.252913",
     "status": "completed"
    },
    "tags": []
   },
   "outputs": [
    {
     "data": {
      "text/plain": [
       "[('ric', 0.9325105),\n",
       " ('Morgan', 0.9248677),\n",
       " ('humil', 0.924194),\n",
       " ('senzilla', 0.92383283),\n",
       " ('rica', 0.9234225)]"
      ]
     },
     "execution_count": 27,
     "metadata": {},
     "output_type": "execute_result"
    }
   ],
   "source": [
    "model2.analogy('negre', 'pobre', 'blanc')"
   ]
  },
  {
   "cell_type": "markdown",
   "id": "1992465b",
   "metadata": {
    "papermill": {
     "duration": 0.037034,
     "end_time": "2022-02-27T12:32:09.030368",
     "exception": false,
     "start_time": "2022-02-27T12:32:08.993334",
     "status": "completed"
    },
    "tags": []
   },
   "source": [
    "Let's try to visualize relations, through dimensionality reduction"
   ]
  },
  {
   "cell_type": "code",
   "execution_count": 28,
   "id": "2d0dd3dc",
   "metadata": {
    "execution": {
     "iopub.execute_input": "2022-02-27T12:32:09.110248Z",
     "iopub.status.busy": "2022-02-27T12:32:09.109530Z",
     "iopub.status.idle": "2022-02-27T12:32:19.686137Z",
     "shell.execute_reply": "2022-02-27T12:32:19.686755Z",
     "shell.execute_reply.started": "2022-02-27T12:04:36.440570Z"
    },
    "papermill": {
     "duration": 10.617935,
     "end_time": "2022-02-27T12:32:19.687017",
     "exception": false,
     "start_time": "2022-02-27T12:32:09.069082",
     "status": "completed"
    },
    "tags": []
   },
   "outputs": [],
   "source": [
    "import seaborn as sns\n",
    "import matplotlib.pyplot as plt\n",
    "import matplotlib.patches as patches\n",
    "from sklearn.manifold import TSNE\n",
    "tsne_dims = TSNE(n_components=2,random_state = 1).fit_transform(model2.vectors[:1500])"
   ]
  },
  {
   "cell_type": "code",
   "execution_count": 29,
   "id": "c510f022",
   "metadata": {
    "execution": {
     "iopub.execute_input": "2022-02-27T12:32:19.790688Z",
     "iopub.status.busy": "2022-02-27T12:32:19.788495Z",
     "iopub.status.idle": "2022-02-27T12:32:20.051665Z",
     "shell.execute_reply": "2022-02-27T12:32:20.052182Z",
     "shell.execute_reply.started": "2022-02-27T12:29:25.402095Z"
    },
    "papermill": {
     "duration": 0.32598,
     "end_time": "2022-02-27T12:32:20.052378",
     "exception": false,
     "start_time": "2022-02-27T12:32:19.726398",
     "status": "completed"
    },
    "tags": []
   },
   "outputs": [
    {
     "data": {
      "text/plain": [
       "<matplotlib.patches.Rectangle at 0x7fa8af3872d0>"
      ]
     },
     "execution_count": 29,
     "metadata": {},
     "output_type": "execute_result"
    },
    {
     "data": {
      "image/png": "[encoded data removed]",
      "text/plain": [
       "<Figure size 684x432 with 1 Axes>"
      ]
     },
     "metadata": {
      "needs_background": "light"
     },
     "output_type": "display_data"
    }
   ],
   "source": [
    "plt.scatter(x = tsne_dims[:,0],y = tsne_dims[:,1])\n",
    "plt.title(\"Dimensionality reduction of word-vectors with t-SNE\")\n",
    "ax = plt.gca()\n",
    "ax.add_patch(patches.Rectangle((-50, 26), 10, 10, fill = False))\n",
    "ax.add_patch(patches.Rectangle((21, 19), 12, 10, fill = False))"
   ]
  },
  {
   "cell_type": "code",
   "execution_count": 30,
   "id": "784aa285",
   "metadata": {
    "execution": {
     "iopub.execute_input": "2022-02-27T12:32:20.141972Z",
     "iopub.status.busy": "2022-02-27T12:32:20.140883Z",
     "iopub.status.idle": "2022-02-27T12:32:20.164151Z",
     "shell.execute_reply": "2022-02-27T12:32:20.163523Z",
     "shell.execute_reply.started": "2022-02-27T12:28:51.126493Z"
    },
    "papermill": {
     "duration": 0.071308,
     "end_time": "2022-02-27T12:32:20.164307",
     "exception": false,
     "start_time": "2022-02-27T12:32:20.092999",
     "status": "completed"
    },
    "tags": []
   },
   "outputs": [
    {
     "name": "stdout",
     "output_type": "stream",
     "text": [
      "1, 2, 3, 4, 5, 6, 8, 7, 10, 12, 20, 9, 15, 16, 11, 14, 13, 30, 18, 17, 25, 24, 19, 21, 22, 28, 23, 27, 26, 29, 31, "
     ]
    }
   ],
   "source": [
    "# Cluster on the top left of the plot. Represent the numbers\n",
    "x1,x2,y1,y2 = -50, -40, 26, 36\n",
    "for i in range(len(tsne_dims)):\n",
    "    if tsne_dims[i][0] > x1 and tsne_dims[i][0] < x2 and tsne_dims[i][1] > y1 and tsne_dims[i][1] < y2:\n",
    "        print(model2.vocabulary.idx2token[i],',',sep = '',end = ' ')"
   ]
  },
  {
   "cell_type": "code",
   "execution_count": 31,
   "id": "c416e543",
   "metadata": {
    "execution": {
     "iopub.execute_input": "2022-02-27T12:32:20.259886Z",
     "iopub.status.busy": "2022-02-27T12:32:20.259223Z",
     "iopub.status.idle": "2022-02-27T12:32:20.266107Z",
     "shell.execute_reply": "2022-02-27T12:32:20.265561Z",
     "shell.execute_reply.started": "2022-02-27T12:29:44.657510Z"
    },
    "papermill": {
     "duration": 0.062253,
     "end_time": "2022-02-27T12:32:20.266273",
     "exception": false,
     "start_time": "2022-02-27T12:32:20.204020",
     "status": "completed"
    },
    "tags": []
   },
   "outputs": [
    {
     "name": "stdout",
     "output_type": "stream",
     "text": [
      "<unk>, de, la, i, a, el, d, l, que, en, del, per, un, una, les, amb, al, els, es, com, dels, més, o, no, entre, també, però, "
     ]
    }
   ],
   "source": [
    "# Cluster on the middle top. Represent the prepositions and conjuntions\n",
    "x1,x2,y1,y2 = 21, 33, 19, 29\n",
    "for i in range(len(tsne_dims)):\n",
    "    if tsne_dims[i][0] > x1 and tsne_dims[i][0] < x2 and tsne_dims[i][1] > y1 and tsne_dims[i][1] < y2:\n",
    "        print(model2.vocabulary.idx2token[i],',',sep = '',end = ' ')"
   ]
  }
 ],
 "metadata": {
  "kernelspec": {
   "display_name": "Python 3 (ipykernel)",
   "language": "python",
   "name": "python3"
  },
  "language_info": {
   "codemirror_mode": {
    "name": "ipython",
    "version": 3
   },
   "file_extension": ".py",
   "mimetype": "text/x-python",
   "name": "python",
   "nbconvert_exporter": "python",
   "pygments_lexer": "ipython3",
   "version": "3.8.10"
  },
  "papermill": {
   "default_parameters": {},
   "duration": 67.003925,
   "end_time": "2022-02-27T12:32:21.421286",
   "environment_variables": {},
   "exception": null,
   "input_path": "__notebook__.ipynb",
   "output_path": "__notebook__.ipynb",
   "parameters": {},
   "start_time": "2022-02-27T12:31:14.417361",
   "version": "2.3.3"
  }
 },
 "nbformat": 4,
 "nbformat_minor": 5
}
